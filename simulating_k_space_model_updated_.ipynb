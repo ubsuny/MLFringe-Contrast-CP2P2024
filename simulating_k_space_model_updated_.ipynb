{
  "nbformat": 4,
  "nbformat_minor": 0,
  "metadata": {
    "colab": {
      "provenance": [],
      "authorship_tag": "ABX9TyPXP3axlzkGc8Bl9pBdWWQO",
      "include_colab_link": true
    },
    "kernelspec": {
      "name": "python3",
      "display_name": "Python 3"
    },
    "language_info": {
      "name": "python"
    }
  },
  "cells": [
    {
      "cell_type": "markdown",
      "metadata": {
        "id": "view-in-github",
        "colab_type": "text"
      },
      "source": [
        "<a href=\"https://colab.research.google.com/github/ubsuny/MLFringe-Contrast-CP2P2024/blob/main/simulating_k_space_model_updated_.ipynb\" target=\"_parent\"><img src=\"https://colab.research.google.com/assets/colab-badge.svg\" alt=\"Open In Colab\"/></a>"
      ]
    },
    {
      "cell_type": "code",
      "execution_count": 1,
      "metadata": {
        "colab": {
          "base_uri": "https://localhost:8080/"
        },
        "id": "L4dhyyI2MVcM",
        "outputId": "096fd931-f220-4063-d342-ed26cfd86741"
      },
      "outputs": [
        {
          "output_type": "stream",
          "name": "stdout",
          "text": [
            "G1_new\n",
            "[[0, 0.7071067811865476], (-2617993.8779914943, (-0.45015815807855303+0j)), (2617993.8779914943, (0.45015815807855303+0j))]\n",
            "P1\n",
            "[0, 1]\n",
            "P2\n",
            "[[0, 0.7071067811865476], [-2617993.8779914943, (-0.45015815807855303+0j)], [2617993.8779914943, (0.45015815807855303+0j)]]\n",
            "P3\n",
            "[(0.0, (0.7071067811865476+0j)), (-2596357.564950242, (0.3379066482448317+0.29742472048674623j)), (2596357.564950242, (-0.3379066482448317-0.29742472048674623j))]\n",
            "P4\n",
            "[[0.0, (0.5000000000000001+0j)], [-2617993.8779914943, (-0.3183098861837907+0j)], [2617993.8779914943, (0.3183098861837907+0j)], [-2596357.564950242, (0.2389360823819379+0.21031103674869173j)], [-5214351.442941736, (-0.15211143437639096-0.13388816434134215j)], [21636.313041252084, (0.15211143437639096+0.13388816434134215j)], [2596357.564950242, (-0.2389360823819379-0.21031103674869173j)], [-21636.313041252084, (0.15211143437639096+0.13388816434134215j)], [5214351.442941736, (-0.15211143437639096-0.13388816434134215j)]]\n",
            "P5\n",
            "[(0.0, (0.5000000000000001+0j)), (-986845.044351934, (-0.08797098206167918-0.30591222590383915j)), (986845.044351934, (0.08797098206167918+0.30591222590383915j)), (-978689.3001837363, (0.0874288559611596-0.306067604930121j)), (-1965534.3445356702, (-0.15328556968375412+0.1325423070021957j)), (8155.744168197826, (0.15375425993804298+0.13199832032886646j)), (978689.3001837363, (-0.0874288559611596+0.306067604930121j)), (-8155.744168197826, (0.15375425993804298+0.13199832032886646j)), (1965534.3445356702, (-0.15328556968375412+0.1325423070021957j))]\n"
          ]
        }
      ],
      "source": [
        "import math\n",
        "import numpy as np\n",
        "import matplotlib.pyplot as plt\n",
        "from scipy.fft import ifft\n",
        "######################### Parameters\n",
        "pi = np.pi\n",
        "p_G = 2.4E-6\n",
        "lam = 4.4E-10\n",
        "kG = 2*pi/lam\n",
        "k_G = 2 * pi / p_G\n",
        "K_0 = 2 * pi / lam\n",
        "x_1 = 0\n",
        "x_2 = 0\n",
        "L1 = 1.2  # meters\n",
        "d = 0.010\n",
        "L2 = 2  # meters\n",
        "M1 = 1 + d/L1\n",
        "M2 = 1 + L2/(L1+d)\n",
        "# Define the function for the second element of G1\n",
        "def second_element(m, k_g, x1):\n",
        "    return m * k_G, np.sin(np.pi/4) * (2 / (np.pi * m)) * np.exp(-1j * m * k_G * x1)\n",
        "# Define m_max and create the new array\n",
        "m_max = 1\n",
        "G1 = [0, np.cos(np.pi/4)] #with m = 0, zero order diffraction.\n",
        "G1_new = [G1]\n",
        "\n",
        "# Generate the values for m from -m_max to m_max in steps of 2\n",
        "for m in range(-m_max, m_max + 1, 2):\n",
        "    G1_new.append(second_element(m, k_G, x_1))\n",
        "print(\"G1_new\")\n",
        "print(G1_new)\n",
        "# Assuming G1_new is already defined as per the previous discussion\n",
        "# Define P1\n",
        "P1 = [0, 1]\n",
        "print(\"P1\")\n",
        "print(P1)\n",
        "# Define a function to perform the first custom convolution ############################################\n",
        "def custom_convolution(P1, G1_new):\n",
        "    P2 = []\n",
        "    for row in G1_new:\n",
        "        # Add the first terms and multiply the second terms\n",
        "        new_row = [P1[0] + row[0], P1[1] * row[1]]\n",
        "        P2.append(new_row)\n",
        "    return P2\n",
        "# Perform the operation\n",
        "P2 = custom_convolution(P1, G1_new)\n",
        "# Print the result\n",
        "print(\"P2\")\n",
        "print(P2) #Convolution result printed.\n",
        "###################Now, scaling the transverse vector,############################################\n",
        "# K_0new = K_0/M1\n",
        "# K_Gnew = k_G/M1\n",
        "P3 = []\n",
        "for i in range(len(P2)):\n",
        "    # Apply scaling factor to the transverse vector (first component)\n",
        "    Scaledvector = P2[i][0] / M1\n",
        "\n",
        "    # Compute the phase term #######################################################################\n",
        "    phase_term = np.exp(-1j * d * (P2[i][0])**2 / (2 * K_0 / M1))\n",
        "\n",
        "    # Apply the phase term to the second component\n",
        "    modified_second_component = phase_term * P2[i][1]\n",
        "\n",
        "    # Store the result as a tuple in P3\n",
        "    P3.append((Scaledvector, modified_second_component))\n",
        "# Print results\n",
        "print(\"P3\")\n",
        "print(P3) # Scalling and phase added and printed.\n",
        "#Now, apply second convolution, betwee, P3 and G1. ##############################################\n",
        "def custom_convolution2(P3, G1_new):\n",
        "    P4 = []\n",
        "    for p3_element in P3:\n",
        "        for g1_element in G1_new:\n",
        "            new_row = [\n",
        "                p3_element[0] + g1_element[0],  # Add the first terms\n",
        "                p3_element[1] * g1_element[1]   # Multiply the second terms\n",
        "            ]\n",
        "            P4.append(new_row)\n",
        "    return P4\n",
        "\n",
        "# Perform the operation\n",
        "P4 = custom_convolution2(P3, G1_new)\n",
        "\n",
        "# Print the result\n",
        "print(\"P4\")\n",
        "print(P4)  # Convolution result printed\n",
        "# Now, second scaling for the transverse vector and second phase change ####################################\n",
        "P5 = []\n",
        "for i in range(len(P4)):\n",
        "  # Apply scaling factor to the transverse vector (first component)\n",
        "    Scaledvector2 = P4[i][0] / M2\n",
        "# Compute the phase term #######################################################################\n",
        "    phase_term2 = np.exp(-1j * L2 * ((P4[i][0])**2 / (2 * K_0 / M1*M2))/M1)\n",
        "\n",
        "    # Apply the phase term to the second component\n",
        "    modified_second_component2 = phase_term2 * P4[i][1]\n",
        "\n",
        "    # Store the result as a tuple in P5\n",
        "    P5.append((Scaledvector2, modified_second_component2))\n",
        "# Print results\n",
        "print(\"P5\")\n",
        "print(P5) # second Scalling and phase term added and printed P5.\n"
      ]
    }
  ]
}