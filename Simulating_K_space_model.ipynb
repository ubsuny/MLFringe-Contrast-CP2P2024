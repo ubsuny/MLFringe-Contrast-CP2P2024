{
  "nbformat": 4,
  "nbformat_minor": 0,
  "metadata": {
    "colab": {
      "provenance": [],
      "authorship_tag": "ABX9TyMxQzeSP9tYSzUeiwsZPHNt",
      "include_colab_link": true
    },
    "kernelspec": {
      "name": "python3",
      "display_name": "Python 3"
    },
    "language_info": {
      "name": "python"
    }
  },
  "cells": [
    {
      "cell_type": "markdown",
      "metadata": {
        "id": "view-in-github",
        "colab_type": "text"
      },
      "source": [
        "<a href=\"https://colab.research.google.com/github/ubsuny/MLFringe-Contrast-CP2P2024/blob/main/Simulating_K_space_model.ipynb\" target=\"_parent\"><img src=\"https://colab.research.google.com/assets/colab-badge.svg\" alt=\"Open In Colab\"/></a>"
      ]
    },
    {
      "cell_type": "code",
      "source": [
        "import math\n",
        "import numpy as np\n",
        "import matplotlib.pyplot as plt\n",
        "from scipy.fft import ifft\n",
        "\n",
        "######################### Parameters\n",
        "pi = np.pi\n",
        "p_G = 2.4E-6\n",
        "lam = 4.4E-10\n",
        "kG = 2*pi/lam\n",
        "k_G = 2 * pi / p_G\n",
        "K_0 = 2 * pi / lam\n",
        "x_1 = 0\n",
        "x_2 = 0\n",
        "L1 = 1.2  # meters\n",
        "d = 0.010\n",
        "L2 = 2  # meters\n",
        "M1 = 1 + d/L1\n",
        "\n",
        "# m takes different values.\n",
        "m = np.array([-1, 1])  # ideal case, m = +1,-1\n",
        "\n",
        "########### Arrays\n",
        "P1 = [[0, 1]]\n",
        "# Define G1 with variable m\n",
        "G1 = [[m[0] * k_G, (math.sqrt(2)*np.exp(1J*k_G*x_1))/pi],  # First row with m[0]\n",
        "      [0, 1 / math.sqrt(2)],                         # Second row\n",
        "      [m[1] * k_G, (math.sqrt(2)*np.exp(-1J*k_G*x_1))/pi]]  # Third row with m[1]\n",
        "\n",
        "# Initialize the resultant array P2, the first convolution.\n",
        "P2 = []\n",
        "\n",
        "# Loop through rows of P1 (one row in this case)\n",
        "for i in range(len(P1)):\n",
        "  # Loop through rows of G1\n",
        "  for j in range(len(G1)):\n",
        "    # Convolution\n",
        "    new_row = [P1[i][0] + G1[j][0], P1[i][1] * G1[j][1]]\n",
        "    P2.append(new_row)\n",
        "# Print P2\n",
        "print(\"P2:\")\n",
        "print(P2)\n",
        "\n",
        "# Magnification + phase shift\n",
        "# K_0new = K_0/M1\n",
        "# K_Gnew = k_G/M1\n",
        "P3 = []\n",
        "for k in range(len(P2)):\n",
        "  Scaledvector = P2[k][0] / M1  # Apply scaling factor to the trans. vector\n",
        "  # Apply phase term only if wavevector is non-zero (optional)\n",
        "  phase_term = np.exp(-1J*d*k_G**2/2*K_0*M1) if Scaledvector != 0 else 1  # Adjust exponent if needed\n",
        "  # Create a new row for P3\n",
        "  new_row = [Scaledvector, phase_term * P2[k][1]]\n",
        "  # Append the new row to P3\n",
        "  P3.append(new_row)\n",
        "\n",
        "# Print P3\n",
        "print(\"P3:\")\n",
        "print(P3)\n",
        "#psi 4, second convolution,\n",
        "P4 = []\n",
        "for i in range(len(P3)):  # Loop through rows of P3 (check length)\n",
        "  for j in range(len(G1)):  # Loop through rows of G1 (check length)\n",
        "    new_row3 = [P3[i][0] + G1[j][0], P3[i][1] * G1[j][1]]  # Use i and j for indexing\n",
        "    P4.append(new_row3)\n",
        "# Print P4 after the loop completes\n",
        "print(\"P4:\")\n",
        "print(P4)\n",
        "#Psi 5, Second magnification and phase shift.\n",
        "\n",
        "\n"
      ],
      "metadata": {
        "colab": {
          "base_uri": "https://localhost:8080/"
        },
        "id": "HO_42LtOqrD5",
        "outputId": "e68208a8-0258-4dc2-9ccb-ed9a6406b31f"
      },
      "execution_count": 1,
      "outputs": [
        {
          "output_type": "stream",
          "name": "stdout",
          "text": [
            "P2:\n",
            "[[-2617993.8779914943, (0.4501581580785531+0j)], [0, 0.7071067811865475], [2617993.8779914943, (0.4501581580785531+0j)]]\n",
            "P3:\n",
            "[[-2596357.564950242, (-0.0037872272223686584-0.4501422266291419j)], [0.0, 0.7071067811865475], [2596357.564950242, (-0.0037872272223686584-0.4501422266291419j)]]\n",
            "P4:\n",
            "[[-5214351.442941736, (-0.00170485123064643-0.20263519561275312j)], [-2596357.564950242, (-0.002677974050831171-0.31829862094787786j)], [21636.313041252084, (-0.00170485123064643-0.20263519561275312j)], [-2617993.8779914943, (0.3183098861837907+0j)], [0.0, 0.4999999999999999], [2617993.8779914943, (0.3183098861837907+0j)], [-21636.313041252084, (-0.00170485123064643-0.20263519561275312j)], [2596357.564950242, (-0.002677974050831171-0.31829862094787786j)], [5214351.442941736, (-0.00170485123064643-0.20263519561275312j)]]\n"
          ]
        }
      ]
    }
  ]
}